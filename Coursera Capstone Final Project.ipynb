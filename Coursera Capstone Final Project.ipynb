{
    "cells": [
        {
            "cell_type": "markdown",
            "metadata": {},
            "source": "# Helping people find the best neighborhood to live in"
        },
        {
            "cell_type": "markdown",
            "metadata": {
                "collapsed": true
            },
            "source": "## Introduction"
        },
        {
            "cell_type": "markdown",
            "metadata": {},
            "source": "All over the world, people are constantly moving to different cities. They can move because of work, family, lifestyle, culture, and many other reasons.\n\n<b><u>When moving, some people may want to live in a neighborhood similar to where they live today.</u></b>\n\nHowever, they may not know the new city they are moving to. Therefore, <b><u>we will find which neighborhoods are the best match for them</u></b>, by comparing:\n* Venues nearby of their current home\n* Venues in each neighborhood of the destination city\n\nFor this, we will consider a walking range of half mile (800m).\n\nOf course, there are many other variables that may affect this decision, such as cost of living, distance to work, criminality, etc. These will <b><u>not</u></b> be included in this analysis.\n\nTo test the models, we will run two scenarios:\n\n* <b><u>Scenario 1:</u></b> Jane currently lives in central London, and has received a job offer in Boston. She doesn't know the city, and wants to know which neighborhoods are best for her.\n* <b><u>Scenario 2:</u></b> John lives in New York, and wants to live one year abroad to improve his Spanish. He decided to go to Madrid. However, to reduce the culture shock, he wants to live in a neighborhood similar to the one he currently lives (or as similar as possible)"
        },
        {
            "cell_type": "markdown",
            "metadata": {},
            "source": "## Data"
        },
        {
            "cell_type": "markdown",
            "metadata": {},
            "source": "* Boston neighborhoods: The list used will be from <a href=\"https://www.boston.gov/neighborhoods\">Boston's government website</a>. \n* Madrid neighborhoods: The list used will be from <a href=\"https://en.wikipedia.org/wiki/List_of_neighborhoods_of_Madrid\">Wikipedia</a>.\n* Neighborhood latitude and longitude: This will be fetched using Python APIs such as Geocode or Geopy.\n* Venues nearby: These will be fetched using the Foursquare API.\n* Current addresses from our 'clients'\n  * Jane lives in Rushworth St, London\n    * Latitude: 51.501463\n    * Longitude: -0.1020907\n  * John lives in Scholes St, Brooklyn, NY\n    * Latitude: 40.708179\n    * Longitude: -73.949628"
        },
        {
            "cell_type": "markdown",
            "metadata": {},
            "source": "## Methodology"
        },
        {
            "cell_type": "markdown",
            "metadata": {},
            "source": "We will follow these steps:\n1. Use html processing to get the list of neighborhoods of each destination city into dataframes\n2. Use APIs to get the latitude and longitude of each neighborhood\n3. For each neighborhood, get a list of nearby venues and their types (e.g. restaurants, bars, nightclubs, etc) using the Foursquare API\n4. Repeat the process for each of their current addresses\n5. Use some measure of similarity to identify the best neighborhoods (e.g. Euclidean distance)\n6. Plot the results on a map using the Folium library"
        },
        {
            "cell_type": "code",
            "execution_count": null,
            "metadata": {},
            "outputs": [],
            "source": ""
        }
    ],
    "metadata": {
        "kernelspec": {
            "display_name": "Python 3.7",
            "language": "python",
            "name": "python3"
        },
        "language_info": {
            "codemirror_mode": {
                "name": "ipython",
                "version": 3
            },
            "file_extension": ".py",
            "mimetype": "text/x-python",
            "name": "python",
            "nbconvert_exporter": "python",
            "pygments_lexer": "ipython3",
            "version": "3.7.10"
        }
    },
    "nbformat": 4,
    "nbformat_minor": 1
}